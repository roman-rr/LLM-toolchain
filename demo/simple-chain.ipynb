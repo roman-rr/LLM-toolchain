{
 "cells": [
  {
   "cell_type": "markdown",
   "metadata": {},
   "source": [
    "# Simple RAG Chain example with In Memory Vector Database and local .pdf loader"
   ]
  },
  {
   "cell_type": "markdown",
   "metadata": {},
   "source": [
    "### Set .env variables"
   ]
  },
  {
   "cell_type": "code",
   "execution_count": 15,
   "metadata": {},
   "outputs": [
    {
     "name": "stdout",
     "output_type": "stream",
     "text": [
      "The history saving thread hit an unexpected error (OperationalError('attempt to write a readonly database')).History will not be written to the database.\n"
     ]
    }
   ],
   "source": [
    "import getpass\n",
    "import os\n",
    "\n",
    "\n",
    "def _set_env(var: str):\n",
    "    if not os.environ.get(var):\n",
    "        os.environ[var] = getpass.getpass(f\"{var}: \")\n",
    "\n",
    "\n",
    "_set_env(\"OPENAI_API_KEY\")\n",
    "_set_env(\"LANGCHAIN_API_KEY\")"
   ]
  },
  {
   "cell_type": "markdown",
   "metadata": {},
   "source": [
    "### Import Dependencies"
   ]
  },
  {
   "cell_type": "code",
   "execution_count": 16,
   "metadata": {},
   "outputs": [],
   "source": [
    "import contextlib\n",
    "from typing import TypedDict, Annotated, Literal, List, Optional, Any\n",
    "from enum import Enum\n",
    "\n",
    "from langchain_core.messages import BaseMessage, AIMessage\n",
    "from langchain_core.documents import Document\n",
    "from langchain_core.prompts import ChatPromptTemplate\n",
    "from langchain_core.output_parsers import StrOutputParser\n",
    "from langchain_core.vectorstores import InMemoryVectorStore\n",
    "from langchain_community.document_loaders import PyPDFLoader\n",
    "from langchain_text_splitters import RecursiveCharacterTextSplitter\n",
    "from langchain_openai import ChatOpenAI, OpenAIEmbeddings\n",
    "from langgraph.graph import StateGraph, END, add_messages"
   ]
  },
  {
   "cell_type": "markdown",
   "metadata": {},
   "source": [
    "### Embeddings declaration"
   ]
  },
  {
   "cell_type": "code",
   "execution_count": 17,
   "metadata": {},
   "outputs": [],
   "source": [
    "# Simplified versions of your module code\n",
    "def get_openai_embeddings(\n",
    "    model: str = \"text-embedding-ada-002\",\n",
    "    dimensions: Optional[int] = None,\n",
    "    **kwargs: Any\n",
    ") -> OpenAIEmbeddings:\n",
    "    return OpenAIEmbeddings(model=model, dimensions=dimensions, **kwargs)"
   ]
  },
  {
   "cell_type": "markdown",
   "metadata": {},
   "source": [
    "### Loader declaration"
   ]
  },
  {
   "cell_type": "code",
   "execution_count": 18,
   "metadata": {},
   "outputs": [],
   "source": [
    "def load_pdf(\n",
    "    file_path: str,\n",
    "    chunk_size: int = 1000,\n",
    "    chunk_overlap: int = 200,\n",
    "    silent: bool = True\n",
    ") -> List[Document]:\n",
    "    if not os.path.exists(file_path):\n",
    "        raise FileNotFoundError(f\"PDF file not found: {file_path}\")\n",
    "    \n",
    "    loader = PyPDFLoader(file_path)\n",
    "    \n",
    "    if silent:\n",
    "        with open(os.devnull, \"w\") as f, contextlib.redirect_stderr(f):\n",
    "            docs = loader.load()\n",
    "    else:\n",
    "        docs = loader.load()\n",
    "    \n",
    "    text_splitter = RecursiveCharacterTextSplitter(\n",
    "        chunk_size=chunk_size, \n",
    "        chunk_overlap=chunk_overlap\n",
    "    )\n",
    "    \n",
    "    return text_splitter.split_documents(docs)"
   ]
  },
  {
   "cell_type": "markdown",
   "metadata": {},
   "source": [
    "### Vectorstore declaration"
   ]
  },
  {
   "cell_type": "code",
   "execution_count": 19,
   "metadata": {},
   "outputs": [],
   "source": [
    "def create_vectorstore(\n",
    "    documents: List[Document],\n",
    "    embedding_model: Optional[object] = None\n",
    "):\n",
    "    if embedding_model is None:\n",
    "        raise ValueError(\"embedding_model must be provided to create a vectorstore\")\n",
    "        \n",
    "    return InMemoryVectorStore.from_documents(\n",
    "        documents=documents,\n",
    "        embedding=embedding_model\n",
    "    )"
   ]
  },
  {
   "cell_type": "markdown",
   "metadata": {},
   "source": [
    "### Graph logics"
   ]
  },
  {
   "cell_type": "code",
   "execution_count": 20,
   "metadata": {},
   "outputs": [],
   "source": [
    "# Define the state type for our graph\n",
    "class GraphState(TypedDict):\n",
    "    messages: Annotated[list[BaseMessage], add_messages]\n",
    "    documents: list[Document]\n",
    "    current_answer: str\n",
    "\n",
    "def create_rag_graph(pdf_path: str, model_name: str = \"gpt-4\", temperature: float = 0.4):\n",
    "    \"\"\"\n",
    "    Create a RAG workflow graph for querying PDF documents\n",
    "    \"\"\"\n",
    "    # Initialize LLM\n",
    "    llm = ChatOpenAI(model_name=model_name, temperature=temperature)\n",
    "    \n",
    "    try:\n",
    "        # Load and split the PDF\n",
    "        print(f\"Loading PDF from {pdf_path}...\")\n",
    "        splits = load_pdf(\n",
    "            file_path=pdf_path,\n",
    "            chunk_size=1000,\n",
    "            chunk_overlap=200\n",
    "        )\n",
    "        print(f\"Loaded {len(splits)} document splits\")\n",
    "        \n",
    "        # Create vector store and retriever\n",
    "        print(\"Creating vectorstore...\")\n",
    "        embedding_model = get_openai_embeddings()\n",
    "        vectorstore = create_vectorstore(\n",
    "            documents=splits,\n",
    "            embedding_model=embedding_model\n",
    "        )\n",
    "        retriever = vectorstore.as_retriever(\n",
    "            search_type=\"similarity\",\n",
    "            search_kwargs={\"k\": 4}\n",
    "        )\n",
    "\n",
    "    except Exception as e:\n",
    "        print(f\"Error during initialization: {str(e)}\")\n",
    "        raise\n",
    "\n",
    "    # Define the prompt template\n",
    "    prompt = ChatPromptTemplate.from_messages([\n",
    "        (\"system\", \"You are a helpful assistant that answers questions based on the provided context.\"),\n",
    "        (\"human\", \"Context:\\n\\n{context}\\n\\nQuestion: {question}\")\n",
    "    ])\n",
    "\n",
    "    # Define node functions\n",
    "    def retrieve_documents(state: GraphState):\n",
    "        \"\"\"Retrieve relevant documents based on the query\"\"\"\n",
    "        question = state[\"messages\"][-1].content\n",
    "        documents = retriever.invoke(question)\n",
    "        return {\"documents\": documents}\n",
    "\n",
    "    def generate_answer(state: GraphState):\n",
    "        \"\"\"Generate answer using retrieved documents\"\"\"\n",
    "        question = state[\"messages\"][-1].content\n",
    "        documents = state[\"documents\"]\n",
    "        context = \"\\n\\n\".join([doc.page_content for doc in documents])\n",
    "        \n",
    "        chain = prompt | llm | StrOutputParser()\n",
    "        answer = chain.invoke({\n",
    "            \"context\": context,\n",
    "            \"question\": question\n",
    "        })\n",
    "        \n",
    "        return {\"current_answer\": answer}\n",
    "\n",
    "    def finalize_response(state: GraphState):\n",
    "        \"\"\"Create the final response\"\"\"\n",
    "        return {\"messages\": [AIMessage(content=state[\"current_answer\"])]}\n",
    "\n",
    "    # Create the graph\n",
    "    workflow = StateGraph(GraphState)\n",
    "\n",
    "    # Add nodes\n",
    "    workflow.add_node(\"retrieve\", retrieve_documents)\n",
    "    workflow.add_node(\"generate\", generate_answer)\n",
    "    workflow.add_node(\"finalize\", finalize_response)\n",
    "\n",
    "    # Add edges\n",
    "    workflow.set_entry_point(\"retrieve\")\n",
    "    workflow.add_edge(\"retrieve\", \"generate\")\n",
    "    workflow.add_edge(\"generate\", \"finalize\")\n",
    "    workflow.add_edge(\"finalize\", END)\n",
    "\n",
    "    return workflow.compile()"
   ]
  },
  {
   "cell_type": "markdown",
   "metadata": {},
   "source": [
    "### Create graph with RAG on file"
   ]
  },
  {
   "cell_type": "code",
   "execution_count": 21,
   "metadata": {},
   "outputs": [
    {
     "name": "stdout",
     "output_type": "stream",
     "text": [
      "Creating RAG graph...\n",
      "Loading PDF from ../data/raw/research.pdf...\n",
      "Loaded 91 document splits\n",
      "Creating vectorstore...\n"
     ]
    }
   ],
   "source": [
    "pdf_path = \"../data/raw/research.pdf\"\n",
    "print(\"Creating RAG graph...\")\n",
    "graph = create_rag_graph(pdf_path)"
   ]
  },
  {
   "cell_type": "markdown",
   "metadata": {},
   "source": [
    "### Visualize Graph"
   ]
  },
  {
   "cell_type": "code",
   "execution_count": 22,
   "metadata": {},
   "outputs": [
    {
     "name": "stdout",
     "output_type": "stream",
     "text": [
      "\n",
      "Graph Structure:\n"
     ]
    },
    {
     "data": {
      "image/png": "[encoded data removed]",
      "text/plain": [
       "<IPython.core.display.Image object>"
      ]
     },
     "metadata": {},
     "output_type": "display_data"
    }
   ],
   "source": [
    "# Print the graph structure\n",
    "print(\"\\nGraph Structure:\")\n",
    "from IPython.display import Image, display\n",
    "display(Image(graph.get_graph().draw_mermaid_png()))"
   ]
  },
  {
   "cell_type": "markdown",
   "metadata": {},
   "source": [
    "### Invoke Graph"
   ]
  },
  {
   "cell_type": "code",
   "execution_count": 23,
   "metadata": {
    "scrolled": true
   },
   "outputs": [
    {
     "name": "stdout",
     "output_type": "stream",
     "text": [
      "\n",
      "Testing with a sample query...\n",
      "\n",
      "Answer:\n",
      "The main concept of this context revolves around identifying key factors that influence the adoption and use of cryptocurrency (CUS). The research questions aim to identify the key drivers that can increase or decrease the use of cryptocurrency, the personality type that has the most CUS, the gender more likely to take risks in cryptocurrency, the main key driver affecting CUS, the possibility of regulating cryptocurrency adoption with positive key drivers, and the role of education and knowledge in the cryptocurrency adoption process. The context also discusses the role of personality traits, knowledge, and community in cryptocurrency usage.\n"
     ]
    }
   ],
   "source": [
    "# Test query\n",
    "print(\"\\nTesting with a sample query...\")\n",
    "response = graph.invoke({\n",
    "    \"messages\": [AIMessage(content=\"Explain the main concept\")]\n",
    "})\n",
    "print(\"\\nAnswer:\")\n",
    "print(response[\"messages\"][-1].content)"
   ]
  },
  {
   "cell_type": "code",
   "execution_count": null,
   "metadata": {},
   "outputs": [],
   "source": []
  }
 ],
 "metadata": {
  "kernelspec": {
   "display_name": "venv",
   "language": "python",
   "name": "venv"
  },
  "language_info": {
   "codemirror_mode": {
    "name": "ipython",
    "version": 3
   },
   "file_extension": ".py",
   "mimetype": "text/x-python",
   "name": "python",
   "nbconvert_exporter": "python",
   "pygments_lexer": "ipython3",
   "version": "3.12.9"
  }
 },
 "nbformat": 4,
 "nbformat_minor": 4
}
